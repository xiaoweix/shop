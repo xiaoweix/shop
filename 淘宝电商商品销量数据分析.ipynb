{
 "cells": [
  {
   "cell_type": "code",
   "execution_count": 1,
   "metadata": {
    "ExecuteTime": {
     "end_time": "2020-04-21T01:28:10.430052Z",
     "start_time": "2020-04-21T01:28:08.504284Z"
    }
   },
   "outputs": [],
   "source": [
    "import numpy as np\n",
    "import pandas as pd\n",
    "import matplotlib.pyplot as plt\n",
    "import matplotlib\n",
    "import seaborn as sns\n",
    "import pyecharts.charts as pyc\n",
    "import pyecharts.options as opts\n",
    "import warnings\n",
    "from datetime import datetime\n",
    "warnings.filterwarnings(\"ignore\")\n",
    "%matplotlib inline\n",
    "plt.rcParams['font.sans-serif']=['SimHei']   # 用来正常显示中文标签\n",
    "plt.rcParams['axes.unicode_minus']=False     # 用来正常显示负号\n",
    "matplotlib.rc(\"font\",family='Heiti TC')\n",
    "# 作图的字体默认设置\n",
    "fontdict = {'fontsize': 15,'horizontalalignment': 'center'}"
   ]
  },
  {
   "cell_type": "markdown",
   "metadata": {},
   "source": [
    "## 数据准备"
   ]
  },
  {
   "cell_type": "markdown",
   "metadata": {},
   "source": [
    "### 导入数据"
   ]
  },
  {
   "cell_type": "code",
   "execution_count": 2,
   "metadata": {
    "ExecuteTime": {
     "end_time": "2020-04-21T01:28:10.622211Z",
     "start_time": "2020-04-21T01:28:10.439045Z"
    }
   },
   "outputs": [],
   "source": [
    "baby = pd.read_csv(\"baby_info.csv\")\n",
    "trade = pd.read_csv(\"trade_info.csv\")"
   ]
  },
  {
   "cell_type": "code",
   "execution_count": 3,
   "metadata": {
    "ExecuteTime": {
     "end_time": "2020-04-21T01:28:10.636224Z",
     "start_time": "2020-04-21T01:28:10.623220Z"
    },
    "cell_style": "split"
   },
   "outputs": [
    {
     "data": {
      "text/html": [
       "<div>\n",
       "<style scoped>\n",
       "    .dataframe tbody tr th:only-of-type {\n",
       "        vertical-align: middle;\n",
       "    }\n",
       "\n",
       "    .dataframe tbody tr th {\n",
       "        vertical-align: top;\n",
       "    }\n",
       "\n",
       "    .dataframe thead th {\n",
       "        text-align: right;\n",
       "    }\n",
       "</style>\n",
       "<table border=\"1\" class=\"dataframe\">\n",
       "  <thead>\n",
       "    <tr style=\"text-align: right;\">\n",
       "      <th></th>\n",
       "      <th>id</th>\n",
       "      <th>user_id</th>\n",
       "      <th>birthday</th>\n",
       "      <th>gender</th>\n",
       "    </tr>\n",
       "  </thead>\n",
       "  <tbody>\n",
       "    <tr>\n",
       "      <th>0</th>\n",
       "      <td>0</td>\n",
       "      <td>2757</td>\n",
       "      <td>2018/3/11</td>\n",
       "      <td>1</td>\n",
       "    </tr>\n",
       "    <tr>\n",
       "      <th>1</th>\n",
       "      <td>1</td>\n",
       "      <td>415971</td>\n",
       "      <td>2017/11/11</td>\n",
       "      <td>0</td>\n",
       "    </tr>\n",
       "    <tr>\n",
       "      <th>2</th>\n",
       "      <td>2</td>\n",
       "      <td>1372572</td>\n",
       "      <td>2017/1/30</td>\n",
       "      <td>1</td>\n",
       "    </tr>\n",
       "    <tr>\n",
       "      <th>3</th>\n",
       "      <td>3</td>\n",
       "      <td>10339332</td>\n",
       "      <td>2017/9/10</td>\n",
       "      <td>0</td>\n",
       "    </tr>\n",
       "    <tr>\n",
       "      <th>4</th>\n",
       "      <td>4</td>\n",
       "      <td>10642245</td>\n",
       "      <td>2018/2/13</td>\n",
       "      <td>0</td>\n",
       "    </tr>\n",
       "  </tbody>\n",
       "</table>\n",
       "</div>"
      ],
      "text/plain": [
       "   id   user_id    birthday  gender\n",
       "0   0      2757   2018/3/11       1\n",
       "1   1    415971  2017/11/11       0\n",
       "2   2   1372572   2017/1/30       1\n",
       "3   3  10339332   2017/9/10       0\n",
       "4   4  10642245   2018/2/13       0"
      ]
     },
     "execution_count": 3,
     "metadata": {},
     "output_type": "execute_result"
    }
   ],
   "source": [
    "baby.head()"
   ]
  },
  {
   "cell_type": "code",
   "execution_count": 4,
   "metadata": {
    "ExecuteTime": {
     "end_time": "2020-04-21T01:28:10.645232Z",
     "start_time": "2020-04-21T01:28:10.637225Z"
    },
    "cell_style": "split"
   },
   "outputs": [
    {
     "data": {
      "text/html": [
       "<div>\n",
       "<style scoped>\n",
       "    .dataframe tbody tr th:only-of-type {\n",
       "        vertical-align: middle;\n",
       "    }\n",
       "\n",
       "    .dataframe tbody tr th {\n",
       "        vertical-align: top;\n",
       "    }\n",
       "\n",
       "    .dataframe thead th {\n",
       "        text-align: right;\n",
       "    }\n",
       "</style>\n",
       "<table border=\"1\" class=\"dataframe\">\n",
       "  <thead>\n",
       "    <tr style=\"text-align: right;\">\n",
       "      <th></th>\n",
       "      <th>Unnamed: 0</th>\n",
       "      <th>user_id</th>\n",
       "      <th>item_id</th>\n",
       "      <th>cat_id</th>\n",
       "      <th>cat1</th>\n",
       "      <th>buy_mount</th>\n",
       "      <th>day</th>\n",
       "    </tr>\n",
       "  </thead>\n",
       "  <tbody>\n",
       "    <tr>\n",
       "      <th>0</th>\n",
       "      <td>0</td>\n",
       "      <td>786295544</td>\n",
       "      <td>41098319944</td>\n",
       "      <td>50014866</td>\n",
       "      <td>50022520</td>\n",
       "      <td>2</td>\n",
       "      <td>2020/9/19</td>\n",
       "    </tr>\n",
       "    <tr>\n",
       "      <th>1</th>\n",
       "      <td>1</td>\n",
       "      <td>532110457</td>\n",
       "      <td>17916191097</td>\n",
       "      <td>50011993</td>\n",
       "      <td>28</td>\n",
       "      <td>1</td>\n",
       "      <td>2019/10/11</td>\n",
       "    </tr>\n",
       "    <tr>\n",
       "      <th>2</th>\n",
       "      <td>2</td>\n",
       "      <td>249013725</td>\n",
       "      <td>21896936223</td>\n",
       "      <td>50012461</td>\n",
       "      <td>50014815</td>\n",
       "      <td>1</td>\n",
       "      <td>2019/10/11</td>\n",
       "    </tr>\n",
       "    <tr>\n",
       "      <th>3</th>\n",
       "      <td>3</td>\n",
       "      <td>917056007</td>\n",
       "      <td>12515996043</td>\n",
       "      <td>50018831</td>\n",
       "      <td>50014815</td>\n",
       "      <td>2</td>\n",
       "      <td>2020/10/23</td>\n",
       "    </tr>\n",
       "    <tr>\n",
       "      <th>4</th>\n",
       "      <td>4</td>\n",
       "      <td>444069173</td>\n",
       "      <td>20487688075</td>\n",
       "      <td>50013636</td>\n",
       "      <td>50008168</td>\n",
       "      <td>1</td>\n",
       "      <td>2020/11/3</td>\n",
       "    </tr>\n",
       "  </tbody>\n",
       "</table>\n",
       "</div>"
      ],
      "text/plain": [
       "   Unnamed: 0    user_id      item_id    cat_id      cat1  buy_mount  \\\n",
       "0           0  786295544  41098319944  50014866  50022520          2   \n",
       "1           1  532110457  17916191097  50011993        28          1   \n",
       "2           2  249013725  21896936223  50012461  50014815          1   \n",
       "3           3  917056007  12515996043  50018831  50014815          2   \n",
       "4           4  444069173  20487688075  50013636  50008168          1   \n",
       "\n",
       "          day  \n",
       "0   2020/9/19  \n",
       "1  2019/10/11  \n",
       "2  2019/10/11  \n",
       "3  2020/10/23  \n",
       "4   2020/11/3  "
      ]
     },
     "execution_count": 4,
     "metadata": {},
     "output_type": "execute_result"
    }
   ],
   "source": [
    "trade.head()"
   ]
  },
  {
   "cell_type": "code",
   "execution_count": 5,
   "metadata": {
    "ExecuteTime": {
     "end_time": "2020-04-21T01:28:10.653239Z",
     "start_time": "2020-04-21T01:28:10.646233Z"
    },
    "cell_style": "split"
   },
   "outputs": [
    {
     "name": "stdout",
     "output_type": "stream",
     "text": [
      "<class 'pandas.core.frame.DataFrame'>\n",
      "RangeIndex: 925 entries, 0 to 924\n",
      "Data columns (total 4 columns):\n",
      " #   Column    Non-Null Count  Dtype \n",
      "---  ------    --------------  ----- \n",
      " 0   id        925 non-null    int64 \n",
      " 1   user_id   925 non-null    int64 \n",
      " 2   birthday  925 non-null    object\n",
      " 3   gender    925 non-null    int64 \n",
      "dtypes: int64(3), object(1)\n",
      "memory usage: 29.0+ KB\n"
     ]
    }
   ],
   "source": [
    "baby.info()"
   ]
  },
  {
   "cell_type": "code",
   "execution_count": 6,
   "metadata": {
    "ExecuteTime": {
     "end_time": "2020-04-21T01:28:10.667260Z",
     "start_time": "2020-04-21T01:28:10.655241Z"
    },
    "cell_style": "split"
   },
   "outputs": [
    {
     "name": "stdout",
     "output_type": "stream",
     "text": [
      "<class 'pandas.core.frame.DataFrame'>\n",
      "RangeIndex: 29967 entries, 0 to 29966\n",
      "Data columns (total 7 columns):\n",
      " #   Column      Non-Null Count  Dtype \n",
      "---  ------      --------------  ----- \n",
      " 0   Unnamed: 0  29967 non-null  int64 \n",
      " 1   user_id     29967 non-null  int64 \n",
      " 2   item_id     29967 non-null  int64 \n",
      " 3   cat_id      29967 non-null  int64 \n",
      " 4   cat1        29967 non-null  int64 \n",
      " 5   buy_mount   29967 non-null  int64 \n",
      " 6   day         29967 non-null  object\n",
      "dtypes: int64(6), object(1)\n",
      "memory usage: 1.6+ MB\n"
     ]
    }
   ],
   "source": [
    "trade.info()"
   ]
  },
  {
   "cell_type": "code",
   "execution_count": 7,
   "metadata": {
    "ExecuteTime": {
     "end_time": "2020-04-21T01:28:10.683267Z",
     "start_time": "2020-04-21T01:28:10.669254Z"
    },
    "cell_style": "split",
    "scrolled": true
   },
   "outputs": [
    {
     "data": {
      "text/plain": [
       "count    29967.000000\n",
       "mean         1.975573\n",
       "std         13.099813\n",
       "min          1.000000\n",
       "25%          1.000000\n",
       "50%          1.000000\n",
       "75%          1.000000\n",
       "max       1000.000000\n",
       "Name: buy_mount, dtype: float64"
      ]
     },
     "execution_count": 7,
     "metadata": {},
     "output_type": "execute_result"
    }
   ],
   "source": [
    "trade.buy_mount.describe()"
   ]
  },
  {
   "cell_type": "code",
   "execution_count": 8,
   "metadata": {
    "ExecuteTime": {
     "end_time": "2020-04-21T01:28:10.853421Z",
     "start_time": "2020-04-21T01:28:10.684268Z"
    },
    "cell_style": "split"
   },
   "outputs": [
    {
     "data": {
      "image/png": "[encoded data removed]",
      "text/plain": [
       "<Figure size 720x576 with 1 Axes>"
      ]
     },
     "metadata": {
      "needs_background": "light"
     },
     "output_type": "display_data"
    }
   ],
   "source": [
    "quantity = trade.buy_mount.value_counts().sort_index()\n",
    "plt.figure(figsize=(10, 8))\n",
    "sns.scatterplot(x=quantity.index, y=quantity.values, alpha=0.3)\n",
    "plt.title(\"单个订单购买量分布\", fontdict=fontdict)\n",
    "plt.ylabel(\"订单数\", fontdict=fontdict)\n",
    "plt.xlabel(\"购买量\", fontdict=fontdict)\n",
    "plt.show()"
   ]
  },
  {
   "cell_type": "markdown",
   "metadata": {
    "ExecuteTime": {
     "end_time": "2020-04-17T05:08:09.646045Z",
     "start_time": "2020-04-17T05:08:09.643043Z"
    }
   },
   "source": [
    "### 数据清洗\n",
    "1. 保留buy_amount[1,1000]以内的订单。\n",
    "2. 查看有无缺失值异常值，并进行处理。\n",
    "3. trade中的auction_id未指定是什么属性，我们就将他默认改为item_id。\n",
    "4. 数据集中的property全是数字，需要有对应的字典才能知道对应什么属性，这边先删除。\n",
    "5. day改成日期形式。"
   ]
  },
  {
   "cell_type": "code",
   "execution_count": 9,
   "metadata": {
    "ExecuteTime": {
     "end_time": "2020-04-21T01:28:10.905469Z",
     "start_time": "2020-04-21T01:28:10.854422Z"
    }
   },
   "outputs": [],
   "source": [
    "# 保留buy_mount[0,1000]以内的记录\n",
    "trade = trade[(trade.buy_mount >= 1) & (trade.buy_mount <= 1000)]\n",
    "# 列重命名\n",
    "trade.rename({\"auction_id\": \"item_id\"}, axis=1, inplace=True)\n",
    "# 先将property属性移除\n",
    "# trade.drop('property', axis=1, inplace=True)\n",
    "# 日期类型转换\n",
    "baby['birthday'] = pd.to_datetime(baby.birthday.astype('str'))\n",
    "trade['day'] = pd.to_datetime(trade.day.astype('str'))\n",
    "# for i in range(len(trade)):\n",
    "#     temp = trade['date'][i].split('-')\n",
    "#     trade['year'][i]= temp[0]\n",
    "#     trade['month'][i]= temp[1]\n",
    "#     trade['day'][i]= temp[2]\n",
    "    "
   ]
  },
  {
   "cell_type": "code",
   "execution_count": 10,
   "metadata": {
    "ExecuteTime": {
     "end_time": "2020-04-21T01:28:10.917480Z",
     "start_time": "2020-04-21T01:28:10.906470Z"
    },
    "cell_style": "split"
   },
   "outputs": [
    {
     "data": {
      "text/plain": [
       "count                   29967\n",
       "unique                    949\n",
       "top       2020-11-11 00:00:00\n",
       "freq                      454\n",
       "first     2018-07-02 00:00:00\n",
       "last      2021-02-05 00:00:00\n",
       "Name: day, dtype: object"
      ]
     },
     "execution_count": 10,
     "metadata": {},
     "output_type": "execute_result"
    }
   ],
   "source": [
    "# 本次统计数据的时间范围是2012/7/2-2015/2/5\n",
    "trade.day.describe()"
   ]
  },
  {
   "cell_type": "code",
   "execution_count": 11,
   "metadata": {
    "ExecuteTime": {
     "end_time": "2020-04-21T01:28:10.932493Z",
     "start_time": "2020-04-21T01:28:10.918481Z"
    },
    "cell_style": "split",
    "scrolled": true
   },
   "outputs": [
    {
     "name": "stdout",
     "output_type": "stream",
     "text": [
      "商品类目数： 6\n",
      "商品类别数： 662\n",
      "商品数： 28418\n",
      "总销量： 59202\n",
      "用户数 29940\n"
     ]
    }
   ],
   "source": [
    "count_cat1 = trade.cat1.nunique()\n",
    "count_cat = trade.cat_id.nunique()\n",
    "count_item = trade.item_id.nunique()\n",
    "sales_volume = trade.buy_mount.sum()\n",
    "count_user = trade.user_id.nunique()\n",
    "print(\"商品类目数：\", count_cat1)\n",
    "print(\"商品类别数：\", count_cat)\n",
    "print(\"商品数：\", count_item)\n",
    "print(\"总销量：\", sales_volume)\n",
    "print(\"用户数\", count_user)"
   ]
  },
  {
   "cell_type": "markdown",
   "metadata": {},
   "source": [
    "## 数据分析"
   ]
  },
  {
   "cell_type": "markdown",
   "metadata": {},
   "source": [
    "### 婴儿信息分析"
   ]
  },
  {
   "cell_type": "code",
   "execution_count": 14,
   "metadata": {},
   "outputs": [
    {
     "data": {
      "text/plain": [
       "0    487\n",
       "1    438\n",
       "Name: gender, dtype: int64"
      ]
     },
     "execution_count": 14,
     "metadata": {},
     "output_type": "execute_result"
    }
   ],
   "source": [
    "baby['gender'].value_counts()"
   ]
  },
  {
   "cell_type": "markdown",
   "metadata": {},
   "source": [
    "### 汇总购买历史数据和婴儿信息数据"
   ]
  },
  {
   "cell_type": "code",
   "execution_count": 15,
   "metadata": {},
   "outputs": [],
   "source": [
    "trade = pd.merge(trade, baby, on='user_id', how='outer') "
   ]
  },
  {
   "cell_type": "code",
   "execution_count": 16,
   "metadata": {},
   "outputs": [
    {
     "data": {
      "text/html": [
       "<div>\n",
       "<style scoped>\n",
       "    .dataframe tbody tr th:only-of-type {\n",
       "        vertical-align: middle;\n",
       "    }\n",
       "\n",
       "    .dataframe tbody tr th {\n",
       "        vertical-align: top;\n",
       "    }\n",
       "\n",
       "    .dataframe thead th {\n",
       "        text-align: right;\n",
       "    }\n",
       "</style>\n",
       "<table border=\"1\" class=\"dataframe\">\n",
       "  <thead>\n",
       "    <tr style=\"text-align: right;\">\n",
       "      <th></th>\n",
       "      <th>Unnamed: 0</th>\n",
       "      <th>user_id</th>\n",
       "      <th>item_id</th>\n",
       "      <th>cat_id</th>\n",
       "      <th>cat1</th>\n",
       "      <th>buy_mount</th>\n",
       "      <th>day</th>\n",
       "      <th>id</th>\n",
       "      <th>birthday</th>\n",
       "      <th>gender</th>\n",
       "    </tr>\n",
       "  </thead>\n",
       "  <tbody>\n",
       "    <tr>\n",
       "      <th>0</th>\n",
       "      <td>0.0</td>\n",
       "      <td>786295544</td>\n",
       "      <td>4.109832e+10</td>\n",
       "      <td>50014866.0</td>\n",
       "      <td>50022520.0</td>\n",
       "      <td>2.0</td>\n",
       "      <td>2020-09-19</td>\n",
       "      <td>NaN</td>\n",
       "      <td>NaT</td>\n",
       "      <td>NaN</td>\n",
       "    </tr>\n",
       "    <tr>\n",
       "      <th>1</th>\n",
       "      <td>1.0</td>\n",
       "      <td>532110457</td>\n",
       "      <td>1.791619e+10</td>\n",
       "      <td>50011993.0</td>\n",
       "      <td>28.0</td>\n",
       "      <td>1.0</td>\n",
       "      <td>2019-10-11</td>\n",
       "      <td>NaN</td>\n",
       "      <td>NaT</td>\n",
       "      <td>NaN</td>\n",
       "    </tr>\n",
       "    <tr>\n",
       "      <th>2</th>\n",
       "      <td>2.0</td>\n",
       "      <td>249013725</td>\n",
       "      <td>2.189694e+10</td>\n",
       "      <td>50012461.0</td>\n",
       "      <td>50014815.0</td>\n",
       "      <td>1.0</td>\n",
       "      <td>2019-10-11</td>\n",
       "      <td>NaN</td>\n",
       "      <td>NaT</td>\n",
       "      <td>NaN</td>\n",
       "    </tr>\n",
       "    <tr>\n",
       "      <th>3</th>\n",
       "      <td>3.0</td>\n",
       "      <td>917056007</td>\n",
       "      <td>1.251600e+10</td>\n",
       "      <td>50018831.0</td>\n",
       "      <td>50014815.0</td>\n",
       "      <td>2.0</td>\n",
       "      <td>2020-10-23</td>\n",
       "      <td>NaN</td>\n",
       "      <td>NaT</td>\n",
       "      <td>NaN</td>\n",
       "    </tr>\n",
       "    <tr>\n",
       "      <th>4</th>\n",
       "      <td>4.0</td>\n",
       "      <td>444069173</td>\n",
       "      <td>2.048769e+10</td>\n",
       "      <td>50013636.0</td>\n",
       "      <td>50008168.0</td>\n",
       "      <td>1.0</td>\n",
       "      <td>2020-11-03</td>\n",
       "      <td>NaN</td>\n",
       "      <td>NaT</td>\n",
       "      <td>NaN</td>\n",
       "    </tr>\n",
       "  </tbody>\n",
       "</table>\n",
       "</div>"
      ],
      "text/plain": [
       "   Unnamed: 0    user_id       item_id      cat_id        cat1  buy_mount  \\\n",
       "0         0.0  786295544  4.109832e+10  50014866.0  50022520.0        2.0   \n",
       "1         1.0  532110457  1.791619e+10  50011993.0        28.0        1.0   \n",
       "2         2.0  249013725  2.189694e+10  50012461.0  50014815.0        1.0   \n",
       "3         3.0  917056007  1.251600e+10  50018831.0  50014815.0        2.0   \n",
       "4         4.0  444069173  2.048769e+10  50013636.0  50008168.0        1.0   \n",
       "\n",
       "         day  id birthday  gender  \n",
       "0 2020-09-19 NaN      NaT     NaN  \n",
       "1 2019-10-11 NaN      NaT     NaN  \n",
       "2 2019-10-11 NaN      NaT     NaN  \n",
       "3 2020-10-23 NaN      NaT     NaN  \n",
       "4 2020-11-03 NaN      NaT     NaN  "
      ]
     },
     "execution_count": 16,
     "metadata": {},
     "output_type": "execute_result"
    }
   ],
   "source": [
    "trade.head()"
   ]
  },
  {
   "cell_type": "markdown",
   "metadata": {},
   "source": [
    "### 根据时间对比分析，了解整体市场情况"
   ]
  },
  {
   "cell_type": "code",
   "execution_count": 17,
   "metadata": {
    "ExecuteTime": {
     "end_time": "2020-04-21T01:28:10.967541Z",
     "start_time": "2020-04-21T01:28:10.933494Z"
    }
   },
   "outputs": [],
   "source": [
    "# 根据年月查看销量趋势\n",
    "# 根据年分组\n",
    "year_item = trade[['item_id', 'buy_mount', 'day']].groupby(by=trade.day.dt.year)[\n",
    "    'buy_mount'].sum()\n",
    "# 各年季度销量情况\n",
    "year_quarter_item = trade[['item_id', 'buy_mount', 'day']].groupby(by=[trade.day.dt.year, trade.day.dt.quarter])[\n",
    "    'buy_mount'].sum()\n",
    "# 根据年月分组\n",
    "year_month_item = trade[['item_id', 'buy_mount', 'day']].groupby(\n",
    "    by=[trade.day.dt.year, trade.day.dt.month])['buy_mount'].sum()"
   ]
  },
  {
   "cell_type": "code",
   "execution_count": 18,
   "metadata": {
    "ExecuteTime": {
     "end_time": "2020-04-21T01:28:11.070619Z",
     "start_time": "2020-04-21T01:28:10.968526Z"
    },
    "scrolled": true
   },
   "outputs": [
    {
     "data": {
      "image/png": "[encoded data removed]",
      "text/plain": [
       "<Figure size 720x360 with 1 Axes>"
      ]
     },
     "metadata": {
      "needs_background": "light"
     },
     "output_type": "display_data"
    }
   ],
   "source": [
    "# 各年销量情况\n",
    "plt.figure(figsize=(10, 5))\n",
    "sns.barplot(x=year_item.index, y=year_item.values)\n",
    "plt.title(\"年销量趋势\", fontdict=fontdict)\n",
    "plt.xlabel(\"年份\", fontdict=fontdict)\n",
    "plt.ylabel(\"销量\", fontdict=fontdict)\n",
    "plt.show()"
   ]
  },
  {
   "cell_type": "code",
   "execution_count": 19,
   "metadata": {},
   "outputs": [
    {
     "data": {
      "text/plain": [
       "59202.0"
      ]
     },
     "execution_count": 19,
     "metadata": {},
     "output_type": "execute_result"
    }
   ],
   "source": [
    "trade['buy_mount'].sum()"
   ]
  },
  {
   "cell_type": "markdown",
   "metadata": {},
   "source": [
    "    2012/7-2015/2期间总销量是59202件，从上图我们可以看出淘宝和天猫平台母婴商品市场销量整体呈现上升趋势，但是波动较大。"
   ]
  },
  {
   "cell_type": "code",
   "execution_count": 20,
   "metadata": {
    "ExecuteTime": {
     "end_time": "2020-04-21T01:28:12.072529Z",
     "start_time": "2020-04-21T01:28:11.927390Z"
    }
   },
   "outputs": [
    {
     "data": {
      "image/png": "[encoded data removed]",
      "text/plain": [
       "<Figure size 720x360 with 1 Axes>"
      ]
     },
     "metadata": {
      "needs_background": "light"
     },
     "output_type": "display_data"
    }
   ],
   "source": [
    "# 各季度销售情况\n",
    "plt.figure(figsize=(10, 5))\n",
    "sns.barplot(x=year_quarter_item.index.values, y=year_quarter_item.values)\n",
    "plt.title(\"季度销量趋势\", fontdict=fontdict)\n",
    "plt.xlabel(\"(年,季度)\", fontdict=fontdict)\n",
    "plt.ylabel(\"销量\", fontdict=fontdict)\n",
    "plt.show()"
   ]
  },
  {
   "cell_type": "markdown",
   "metadata": {
    "ExecuteTime": {
     "end_time": "2020-04-20T11:26:19.287822Z",
     "start_time": "2020-04-20T11:26:19.284828Z"
    }
   },
   "source": [
    "1. 2015年由于数据缺失，所以不能反应2015年第一季度的真实销量情况\n",
    "2. 每年第一季度的销售额都会呈现一定幅度的下跌。每年第四季度的销量都会呈现大幅度上升。"
   ]
  },
  {
   "cell_type": "markdown",
   "metadata": {},
   "source": [
    "### 时间维度对比分析"
   ]
  },
  {
   "cell_type": "code",
   "execution_count": 22,
   "metadata": {
    "ExecuteTime": {
     "end_time": "2020-04-21T01:28:13.437746Z",
     "start_time": "2020-04-21T01:28:13.399704Z"
    }
   },
   "outputs": [
    {
     "data": {
      "text/html": [
       "\n",
       "<script>\n",
       "    require.config({\n",
       "        paths: {\n",
       "            'echarts':'https://assets.pyecharts.org/assets/echarts.min'\n",
       "        }\n",
       "    });\n",
       "</script>\n",
       "\n",
       "        <div id=\"89755b9eed0e4784b57fe38ee3b6d24f\" style=\"width:900px; height:500px;\"></div>\n",
       "\n",
       "<script>\n",
       "        require(['echarts'], function(echarts) {\n",
       "                var chart_89755b9eed0e4784b57fe38ee3b6d24f = echarts.init(\n",
       "                    document.getElementById('89755b9eed0e4784b57fe38ee3b6d24f'), 'white', {renderer: 'canvas'});\n",
       "                var option_89755b9eed0e4784b57fe38ee3b6d24f = {\n",
       "    \"animation\": true,\n",
       "    \"animationThreshold\": 2000,\n",
       "    \"animationDuration\": 1000,\n",
       "    \"animationEasing\": \"cubicOut\",\n",
       "    \"animationDelay\": 0,\n",
       "    \"animationDurationUpdate\": 300,\n",
       "    \"animationEasingUpdate\": \"cubicOut\",\n",
       "    \"animationDelayUpdate\": 0,\n",
       "    \"color\": [\n",
       "        \"#c23531\",\n",
       "        \"#2f4554\",\n",
       "        \"#61a0a8\",\n",
       "        \"#d48265\",\n",
       "        \"#749f83\",\n",
       "        \"#ca8622\",\n",
       "        \"#bda29a\",\n",
       "        \"#6e7074\",\n",
       "        \"#546570\",\n",
       "        \"#c4ccd3\",\n",
       "        \"#f05b72\",\n",
       "        \"#ef5b9c\",\n",
       "        \"#f47920\",\n",
       "        \"#905a3d\",\n",
       "        \"#fab27b\",\n",
       "        \"#2a5caa\",\n",
       "        \"#444693\",\n",
       "        \"#726930\",\n",
       "        \"#b2d235\",\n",
       "        \"#6d8346\",\n",
       "        \"#ac6767\",\n",
       "        \"#1d953f\",\n",
       "        \"#6950a1\",\n",
       "        \"#918597\"\n",
       "    ],\n",
       "    \"series\": [\n",
       "        {\n",
       "            \"type\": \"bar\",\n",
       "            \"name\": \"\\u9500\\u91cf\",\n",
       "            \"legendHoverLink\": true,\n",
       "            \"data\": [\n",
       "                643,\n",
       "                781,\n",
       "                1353,\n",
       "                1072,\n",
       "                2083,\n",
       "                991,\n",
       "                1372,\n",
       "                1177,\n",
       "                1094,\n",
       "                1506,\n",
       "                1864,\n",
       "                1232,\n",
       "                2662,\n",
       "                1364,\n",
       "                1956,\n",
       "                1590,\n",
       "                2538,\n",
       "                1658,\n",
       "                1109,\n",
       "                1458,\n",
       "                2359,\n",
       "                2204,\n",
       "                3669,\n",
       "                1785,\n",
       "                2461,\n",
       "                3139,\n",
       "                2437,\n",
       "                3320,\n",
       "                3044,\n",
       "                2508,\n",
       "                2252,\n",
       "                521\n",
       "            ],\n",
       "            \"showBackground\": false,\n",
       "            \"barMinHeight\": 0,\n",
       "            \"barCategoryGap\": \"20%\",\n",
       "            \"barGap\": \"30%\",\n",
       "            \"large\": false,\n",
       "            \"largeThreshold\": 400,\n",
       "            \"seriesLayoutBy\": \"column\",\n",
       "            \"datasetIndex\": 0,\n",
       "            \"clip\": true,\n",
       "            \"zlevel\": 0,\n",
       "            \"z\": 2,\n",
       "            \"label\": {\n",
       "                \"show\": false,\n",
       "                \"position\": \"top\",\n",
       "                \"margin\": 8\n",
       "            },\n",
       "            \"markPoint\": {\n",
       "                \"label\": {\n",
       "                    \"show\": true,\n",
       "                    \"position\": \"inside\",\n",
       "                    \"color\": \"#fff\",\n",
       "                    \"margin\": 8\n",
       "                },\n",
       "                \"data\": [\n",
       "                    {\n",
       "                        \"coord\": [\n",
       "                            \"2018.0/11.0\",\n",
       "                            2083\n",
       "                        ],\n",
       "                        \"value\": 2083\n",
       "                    },\n",
       "                    {\n",
       "                        \"coord\": [\n",
       "                            \"2019.0/5.0\",\n",
       "                            1864\n",
       "                        ],\n",
       "                        \"value\": 1864\n",
       "                    },\n",
       "                    {\n",
       "                        \"coord\": [\n",
       "                            \"2019.0/11.0\",\n",
       "                            2538\n",
       "                        ],\n",
       "                        \"value\": 2538\n",
       "                    },\n",
       "                    {\n",
       "                        \"coord\": [\n",
       "                            \"2020.0/5.0\",\n",
       "                            3669\n",
       "                        ],\n",
       "                        \"value\": 3669\n",
       "                    },\n",
       "                    {\n",
       "                        \"coord\": [\n",
       "                            \"2020.0/11.0\",\n",
       "                            3044\n",
       "                        ],\n",
       "                        \"value\": 3044\n",
       "                    }\n",
       "                ]\n",
       "            },\n",
       "            \"rippleEffect\": {\n",
       "                \"show\": true,\n",
       "                \"brushType\": \"stroke\",\n",
       "                \"scale\": 2.5,\n",
       "                \"period\": 4\n",
       "            }\n",
       "        }\n",
       "    ],\n",
       "    \"legend\": [\n",
       "        {\n",
       "            \"data\": [\n",
       "                \"\\u9500\\u91cf\"\n",
       "            ],\n",
       "            \"selected\": {\n",
       "                \"\\u9500\\u91cf\": true\n",
       "            },\n",
       "            \"show\": true,\n",
       "            \"padding\": 5,\n",
       "            \"itemGap\": 10,\n",
       "            \"itemWidth\": 25,\n",
       "            \"itemHeight\": 14\n",
       "        }\n",
       "    ],\n",
       "    \"tooltip\": {\n",
       "        \"show\": true,\n",
       "        \"trigger\": \"item\",\n",
       "        \"triggerOn\": \"mousemove|click\",\n",
       "        \"axisPointer\": {\n",
       "            \"type\": \"line\"\n",
       "        },\n",
       "        \"showContent\": true,\n",
       "        \"alwaysShowContent\": false,\n",
       "        \"showDelay\": 0,\n",
       "        \"hideDelay\": 100,\n",
       "        \"textStyle\": {\n",
       "            \"fontSize\": 14\n",
       "        },\n",
       "        \"borderWidth\": 0,\n",
       "        \"padding\": 5\n",
       "    },\n",
       "    \"xAxis\": [\n",
       "        {\n",
       "            \"show\": true,\n",
       "            \"scale\": false,\n",
       "            \"nameLocation\": \"end\",\n",
       "            \"nameGap\": 15,\n",
       "            \"gridIndex\": 0,\n",
       "            \"inverse\": false,\n",
       "            \"offset\": 0,\n",
       "            \"splitNumber\": 5,\n",
       "            \"minInterval\": 0,\n",
       "            \"splitLine\": {\n",
       "                \"show\": false,\n",
       "                \"lineStyle\": {\n",
       "                    \"show\": true,\n",
       "                    \"width\": 1,\n",
       "                    \"opacity\": 1,\n",
       "                    \"curveness\": 0,\n",
       "                    \"type\": \"solid\"\n",
       "                }\n",
       "            },\n",
       "            \"data\": [\n",
       "                \"2018.0/7.0\",\n",
       "                \"2018.0/8.0\",\n",
       "                \"2018.0/9.0\",\n",
       "                \"2018.0/10.0\",\n",
       "                \"2018.0/11.0\",\n",
       "                \"2018.0/12.0\",\n",
       "                \"2019.0/1.0\",\n",
       "                \"2019.0/2.0\",\n",
       "                \"2019.0/3.0\",\n",
       "                \"2019.0/4.0\",\n",
       "                \"2019.0/5.0\",\n",
       "                \"2019.0/6.0\",\n",
       "                \"2019.0/7.0\",\n",
       "                \"2019.0/8.0\",\n",
       "                \"2019.0/9.0\",\n",
       "                \"2019.0/10.0\",\n",
       "                \"2019.0/11.0\",\n",
       "                \"2019.0/12.0\",\n",
       "                \"2020.0/1.0\",\n",
       "                \"2020.0/2.0\",\n",
       "                \"2020.0/3.0\",\n",
       "                \"2020.0/4.0\",\n",
       "                \"2020.0/5.0\",\n",
       "                \"2020.0/6.0\",\n",
       "                \"2020.0/7.0\",\n",
       "                \"2020.0/8.0\",\n",
       "                \"2020.0/9.0\",\n",
       "                \"2020.0/10.0\",\n",
       "                \"2020.0/11.0\",\n",
       "                \"2020.0/12.0\",\n",
       "                \"2021.0/1.0\",\n",
       "                \"2021.0/2.0\"\n",
       "            ]\n",
       "        }\n",
       "    ],\n",
       "    \"yAxis\": [\n",
       "        {\n",
       "            \"show\": true,\n",
       "            \"scale\": false,\n",
       "            \"nameLocation\": \"end\",\n",
       "            \"nameGap\": 15,\n",
       "            \"gridIndex\": 0,\n",
       "            \"inverse\": false,\n",
       "            \"offset\": 0,\n",
       "            \"splitNumber\": 5,\n",
       "            \"minInterval\": 0,\n",
       "            \"splitLine\": {\n",
       "                \"show\": false,\n",
       "                \"lineStyle\": {\n",
       "                    \"show\": true,\n",
       "                    \"width\": 1,\n",
       "                    \"opacity\": 1,\n",
       "                    \"curveness\": 0,\n",
       "                    \"type\": \"solid\"\n",
       "                }\n",
       "            }\n",
       "        }\n",
       "    ],\n",
       "    \"title\": [\n",
       "        {\n",
       "            \"text\": \"\\u6708\\u9500\\u91cf\\u8d8b\\u52bf\",\n",
       "            \"subtext\": \"2018/7-2021/2\\u7684\\u9500\\u91cf\\u8d8b\\u52bf\\u56fe\",\n",
       "            \"padding\": 5,\n",
       "            \"itemGap\": 10\n",
       "        }\n",
       "    ],\n",
       "    \"toolbox\": {\n",
       "        \"show\": true,\n",
       "        \"orient\": \"horizontal\",\n",
       "        \"itemSize\": 15,\n",
       "        \"itemGap\": 10,\n",
       "        \"left\": \"80%\",\n",
       "        \"feature\": {\n",
       "            \"saveAsImage\": {\n",
       "                \"type\": \"png\",\n",
       "                \"backgroundColor\": \"auto\",\n",
       "                \"connectedBackgroundColor\": \"#fff\",\n",
       "                \"show\": true,\n",
       "                \"title\": \"\\u4fdd\\u5b58\\u4e3a\\u56fe\\u7247\",\n",
       "                \"pixelRatio\": 1\n",
       "            },\n",
       "            \"restore\": {\n",
       "                \"show\": true,\n",
       "                \"title\": \"\\u8fd8\\u539f\"\n",
       "            },\n",
       "            \"dataView\": {\n",
       "                \"show\": true,\n",
       "                \"title\": \"\\u6570\\u636e\\u89c6\\u56fe\",\n",
       "                \"readOnly\": false,\n",
       "                \"lang\": [\n",
       "                    \"\\u6570\\u636e\\u89c6\\u56fe\",\n",
       "                    \"\\u5173\\u95ed\",\n",
       "                    \"\\u5237\\u65b0\"\n",
       "                ],\n",
       "                \"backgroundColor\": \"#fff\",\n",
       "                \"textareaColor\": \"#fff\",\n",
       "                \"textareaBorderColor\": \"#333\",\n",
       "                \"textColor\": \"#000\",\n",
       "                \"buttonColor\": \"#c23531\",\n",
       "                \"buttonTextColor\": \"#fff\"\n",
       "            },\n",
       "            \"dataZoom\": {\n",
       "                \"show\": true,\n",
       "                \"title\": {\n",
       "                    \"zoom\": \"\\u533a\\u57df\\u7f29\\u653e\",\n",
       "                    \"back\": \"\\u533a\\u57df\\u7f29\\u653e\\u8fd8\\u539f\"\n",
       "                },\n",
       "                \"icon\": {},\n",
       "                \"xAxisIndex\": false,\n",
       "                \"yAxisIndex\": false,\n",
       "                \"filterMode\": \"filter\"\n",
       "            },\n",
       "            \"magicType\": {\n",
       "                \"show\": true,\n",
       "                \"type\": [\n",
       "                    \"line\",\n",
       "                    \"bar\",\n",
       "                    \"stack\",\n",
       "                    \"tiled\"\n",
       "                ],\n",
       "                \"title\": {\n",
       "                    \"line\": \"\\u5207\\u6362\\u4e3a\\u6298\\u7ebf\\u56fe\",\n",
       "                    \"bar\": \"\\u5207\\u6362\\u4e3a\\u67f1\\u72b6\\u56fe\",\n",
       "                    \"stack\": \"\\u5207\\u6362\\u4e3a\\u5806\\u53e0\",\n",
       "                    \"tiled\": \"\\u5207\\u6362\\u4e3a\\u5e73\\u94fa\"\n",
       "                },\n",
       "                \"icon\": {}\n",
       "            },\n",
       "            \"brush\": {\n",
       "                \"icon\": {},\n",
       "                \"title\": {\n",
       "                    \"rect\": \"\\u77e9\\u5f62\\u9009\\u62e9\",\n",
       "                    \"polygon\": \"\\u5708\\u9009\",\n",
       "                    \"lineX\": \"\\u6a2a\\u5411\\u9009\\u62e9\",\n",
       "                    \"lineY\": \"\\u7eb5\\u5411\\u9009\\u62e9\",\n",
       "                    \"keep\": \"\\u4fdd\\u6301\\u9009\\u62e9\",\n",
       "                    \"clear\": \"\\u6e05\\u9664\\u9009\\u62e9\"\n",
       "                }\n",
       "            }\n",
       "        }\n",
       "    }\n",
       "};\n",
       "                chart_89755b9eed0e4784b57fe38ee3b6d24f.setOption(option_89755b9eed0e4784b57fe38ee3b6d24f);\n",
       "        });\n",
       "    </script>\n"
      ],
      "text/plain": [
       "<pyecharts.render.display.HTML at 0x7f834f5552e0>"
      ]
     },
     "execution_count": 22,
     "metadata": {},
     "output_type": "execute_result"
    }
   ],
   "source": [
    "# 各月份销量情况\n",
    "x = [str(x[0])+\"/\"+str(x[1]) for x in year_month_item.index.values]\n",
    "y = [int(x) for x in year_month_item.values]\n",
    "pyc.Bar().add_xaxis(xaxis_data=x).add_yaxis(series_name=\"销量\", y_axis=y, \n",
    "                                            markpoint_opts=opts.MarkPointOpts(data=[\n",
    "                                                opts.MarkPointItem(coord=[x[4], y[4]], value=y[4]), \n",
    "                                                opts.MarkPointItem(coord=[x[10], y[10]], value=y[10]), \n",
    "                                                opts.MarkPointItem(coord=[x[16], y[16]], value=y[16]), \n",
    "                                                opts.MarkPointItem(coord=[x[22], y[22]], value=y[22]), \n",
    "                                                opts.MarkPointItem(coord=[x[28], y[28]], value=y[28])]\n",
    "                            )).set_series_opts(\n",
    "                                        label_opts=opts.LabelOpts(is_show=False)\n",
    "                            ).set_global_opts(title_opts=opts.TitleOpts(title=\"月销量趋势\", subtitle=\"2018/7-2021/2的销量趋势图\"), toolbox_opts=opts.ToolboxOpts()).render_notebook()"
   ]
  },
  {
   "cell_type": "markdown",
   "metadata": {},
   "source": [
    "### 针对性分析\n",
    "- 从上图可以看出，2012年至2014年的5月和11月都出现高峰凸起，整体呈现上涨趋势。"
   ]
  },
  {
   "cell_type": "code",
   "execution_count": 31,
   "metadata": {},
   "outputs": [
    {
     "data": {
      "text/html": [
       "<div>\n",
       "<style scoped>\n",
       "    .dataframe tbody tr th:only-of-type {\n",
       "        vertical-align: middle;\n",
       "    }\n",
       "\n",
       "    .dataframe tbody tr th {\n",
       "        vertical-align: top;\n",
       "    }\n",
       "\n",
       "    .dataframe thead th {\n",
       "        text-align: right;\n",
       "    }\n",
       "</style>\n",
       "<table border=\"1\" class=\"dataframe\">\n",
       "  <thead>\n",
       "    <tr style=\"text-align: right;\">\n",
       "      <th></th>\n",
       "      <th>Unnamed: 0</th>\n",
       "      <th>user_id</th>\n",
       "      <th>item_id</th>\n",
       "      <th>cat_id</th>\n",
       "      <th>cat1</th>\n",
       "      <th>buy_mount</th>\n",
       "      <th>day</th>\n",
       "      <th>id</th>\n",
       "      <th>birthday</th>\n",
       "      <th>gender</th>\n",
       "      <th>month</th>\n",
       "      <th>day_num</th>\n",
       "    </tr>\n",
       "  </thead>\n",
       "  <tbody>\n",
       "    <tr>\n",
       "      <th>0</th>\n",
       "      <td>0.0</td>\n",
       "      <td>786295544</td>\n",
       "      <td>4.109832e+10</td>\n",
       "      <td>50014866.0</td>\n",
       "      <td>50022520.0</td>\n",
       "      <td>2.0</td>\n",
       "      <td>2020-09-19</td>\n",
       "      <td>NaN</td>\n",
       "      <td>NaT</td>\n",
       "      <td>NaN</td>\n",
       "      <td>2020-09-01</td>\n",
       "      <td>19.0</td>\n",
       "    </tr>\n",
       "    <tr>\n",
       "      <th>1</th>\n",
       "      <td>1.0</td>\n",
       "      <td>532110457</td>\n",
       "      <td>1.791619e+10</td>\n",
       "      <td>50011993.0</td>\n",
       "      <td>28.0</td>\n",
       "      <td>1.0</td>\n",
       "      <td>2019-10-11</td>\n",
       "      <td>NaN</td>\n",
       "      <td>NaT</td>\n",
       "      <td>NaN</td>\n",
       "      <td>2019-10-01</td>\n",
       "      <td>11.0</td>\n",
       "    </tr>\n",
       "    <tr>\n",
       "      <th>2</th>\n",
       "      <td>2.0</td>\n",
       "      <td>249013725</td>\n",
       "      <td>2.189694e+10</td>\n",
       "      <td>50012461.0</td>\n",
       "      <td>50014815.0</td>\n",
       "      <td>1.0</td>\n",
       "      <td>2019-10-11</td>\n",
       "      <td>NaN</td>\n",
       "      <td>NaT</td>\n",
       "      <td>NaN</td>\n",
       "      <td>2019-10-01</td>\n",
       "      <td>11.0</td>\n",
       "    </tr>\n",
       "    <tr>\n",
       "      <th>3</th>\n",
       "      <td>3.0</td>\n",
       "      <td>917056007</td>\n",
       "      <td>1.251600e+10</td>\n",
       "      <td>50018831.0</td>\n",
       "      <td>50014815.0</td>\n",
       "      <td>2.0</td>\n",
       "      <td>2020-10-23</td>\n",
       "      <td>NaN</td>\n",
       "      <td>NaT</td>\n",
       "      <td>NaN</td>\n",
       "      <td>2020-10-01</td>\n",
       "      <td>23.0</td>\n",
       "    </tr>\n",
       "    <tr>\n",
       "      <th>4</th>\n",
       "      <td>4.0</td>\n",
       "      <td>444069173</td>\n",
       "      <td>2.048769e+10</td>\n",
       "      <td>50013636.0</td>\n",
       "      <td>50008168.0</td>\n",
       "      <td>1.0</td>\n",
       "      <td>2020-11-03</td>\n",
       "      <td>NaN</td>\n",
       "      <td>NaT</td>\n",
       "      <td>NaN</td>\n",
       "      <td>2020-11-01</td>\n",
       "      <td>3.0</td>\n",
       "    </tr>\n",
       "  </tbody>\n",
       "</table>\n",
       "</div>"
      ],
      "text/plain": [
       "   Unnamed: 0    user_id       item_id      cat_id        cat1  buy_mount  \\\n",
       "0         0.0  786295544  4.109832e+10  50014866.0  50022520.0        2.0   \n",
       "1         1.0  532110457  1.791619e+10  50011993.0        28.0        1.0   \n",
       "2         2.0  249013725  2.189694e+10  50012461.0  50014815.0        1.0   \n",
       "3         3.0  917056007  1.251600e+10  50018831.0  50014815.0        2.0   \n",
       "4         4.0  444069173  2.048769e+10  50013636.0  50008168.0        1.0   \n",
       "\n",
       "         day  id birthday  gender      month  day_num  \n",
       "0 2020-09-19 NaN      NaT     NaN 2020-09-01     19.0  \n",
       "1 2019-10-11 NaN      NaT     NaN 2019-10-01     11.0  \n",
       "2 2019-10-11 NaN      NaT     NaN 2019-10-01     11.0  \n",
       "3 2020-10-23 NaN      NaT     NaN 2020-10-01     23.0  \n",
       "4 2020-11-03 NaN      NaT     NaN 2020-11-01      3.0  "
      ]
     },
     "execution_count": 31,
     "metadata": {},
     "output_type": "execute_result"
    }
   ],
   "source": [
    "trade['month'] = trade['day'].astype('datetime64[M]')\n",
    "trade['day_num'] = trade['day'].dt.day\n",
    "trade.head()"
   ]
  },
  {
   "cell_type": "code",
   "execution_count": 33,
   "metadata": {},
   "outputs": [
    {
     "data": {
      "text/plain": [
       "Text(0.5, 1.0, 'Sales per day')"
      ]
     },
     "execution_count": 33,
     "metadata": {},
     "output_type": "execute_result"
    },
    {
     "data": {
      "image/png": "[encoded data removed]",
      "text/plain": [
       "<Figure size 432x288 with 1 Axes>"
      ]
     },
     "metadata": {
      "needs_background": "light"
     },
     "output_type": "display_data"
    }
   ],
   "source": [
    "sales18_06_series = trade.query('month == \"2018-06-01\"')\n",
    "sales19_06_series = trade.query('month == \"2019-06-01\"')\n",
    "sales20_06_series = trade.query('month == \"2020-06-01\"')\n",
    "\n",
    "sales18_06_sum_series = sales18_06_series.groupby(by='day_num')['buy_mount'].sum()\n",
    "sales19_06_sum_series = sales19_06_series.groupby(by='day_num')['buy_mount'].sum()\n",
    "sales20_06_sum_series = sales20_06_series.groupby(by='day_num')['buy_mount'].sum()\n",
    "\n",
    "plt.plot(sales18_06_sum_series, label='2018-06')\n",
    "plt.plot(sales19_06_sum_series, label='2019-06')\n",
    "plt.plot(sales20_06_sum_series, label='2020-06')\n",
    "plt.legend()\n",
    "plt.xlabel('Day')\n",
    "plt.ylabel('Sales')\n",
    "plt.title('Sales per day')"
   ]
  },
  {
   "cell_type": "code",
   "execution_count": 32,
   "metadata": {},
   "outputs": [
    {
     "data": {
      "text/plain": [
       "Text(0.5, 1.0, 'Sales per day')"
      ]
     },
     "execution_count": 32,
     "metadata": {},
     "output_type": "execute_result"
    },
    {
     "data": {
      "image/png": "[encoded data removed]",
      "text/plain": [
       "<Figure size 432x288 with 1 Axes>"
      ]
     },
     "metadata": {
      "needs_background": "light"
     },
     "output_type": "display_data"
    }
   ],
   "source": [
    "# 11月\n",
    "sales18_11_series = trade.query('month == \"2018-11-01\"')\n",
    "sales19_11_series = trade.query('month == \"2019-11-01\"')\n",
    "sales20_11_series = trade.query('month == \"2020-11-01\"')\n",
    "\n",
    "sales18_11_sum_series = sales18_11_series.groupby(by='day_num')['buy_mount'].sum()\n",
    "sales19_11_sum_series = sales19_11_series.groupby(by='day_num')['buy_mount'].sum()\n",
    "sales20_11_sum_series = sales20_11_series.groupby(by='day_num')['buy_mount'].sum()\n",
    "\n",
    "plt.plot(sales18_11_sum_series, label='2018-11')\n",
    "plt.plot(sales19_11_sum_series, label='2019-11')\n",
    "plt.plot(sales20_11_sum_series, label='2020-11')\n",
    "plt.legend()\n",
    "plt.xlabel('Day')\n",
    "plt.ylabel('Sales')\n",
    "plt.title('Sales per day')"
   ]
  },
  {
   "cell_type": "markdown",
   "metadata": {},
   "source": [
    "### 商品销售情况"
   ]
  },
  {
   "cell_type": "code",
   "execution_count": 27,
   "metadata": {
    "ExecuteTime": {
     "end_time": "2020-04-20T14:56:18.779528Z",
     "start_time": "2020-04-20T14:56:18.661412Z"
    },
    "cell_style": "split",
    "scrolled": true
   },
   "outputs": [
    {
     "data": {
      "image/png": "[encoded data removed]",
      "text/plain": [
       "<Figure size 432x288 with 1 Axes>"
      ]
     },
     "metadata": {
      "needs_background": "light"
     },
     "output_type": "display_data"
    }
   ],
   "source": [
    "# 商品大类销售情况\n",
    "cat = trade.groupby(\"cat1\")['buy_mount'].sum()\n",
    "sns.barplot(x=cat.index, y=cat.values)\n",
    "plt.title(\"商品大类销售情况\")\n",
    "plt.xlabel(\"商品大类\")\n",
    "plt.show()"
   ]
  },
  {
   "cell_type": "code",
   "execution_count": 28,
   "metadata": {
    "ExecuteTime": {
     "end_time": "2020-04-20T14:56:18.891630Z",
     "start_time": "2020-04-20T14:56:18.780520Z"
    },
    "cell_style": "split",
    "scrolled": true
   },
   "outputs": [
    {
     "data": {
      "image/png": "[encoded data removed]",
      "text/plain": [
       "<Figure size 432x288 with 1 Axes>"
      ]
     },
     "metadata": {
      "needs_background": "light"
     },
     "output_type": "display_data"
    }
   ],
   "source": [
    "# 人均大类购买情况\n",
    "cat_aver_user = (trade.groupby(\"cat1\")['buy_mount'].sum(\n",
    ") / trade.groupby(\"cat1\")['user_id'].count()).sort_values(ascending=False)\n",
    "sns.barplot(x=cat_aver_user.index, y=cat_aver_user.values)\n",
    "plt.title(\"商品大类人均购买情况\")\n",
    "plt.xlabel(\"商品大类\")\n",
    "plt.show()"
   ]
  },
  {
   "cell_type": "code",
   "execution_count": 29,
   "metadata": {
    "ExecuteTime": {
     "end_time": "2020-04-20T14:56:19.004724Z",
     "start_time": "2020-04-20T14:56:18.893624Z"
    }
   },
   "outputs": [
    {
     "data": {
      "image/png": "[encoded data removed]",
      "text/plain": [
       "<Figure size 432x288 with 1 Axes>"
      ]
     },
     "metadata": {
      "needs_background": "light"
     },
     "output_type": "display_data"
    }
   ],
   "source": [
    "# 大类下子类别数量\n",
    "cat_count = trade.groupby(\"cat1\")['cat_id'].count()\n",
    "sns.barplot(x=cat_count.index, y=cat_count.values)\n",
    "plt.title(\"商品大类的子类数量\")\n",
    "plt.xlabel(\"商品大类\")\n",
    "plt.show()"
   ]
  },
  {
   "cell_type": "markdown",
   "metadata": {},
   "source": [
    "大类28和50008168销量最佳，大类38虽然销量低、子类数最少但是人均购买量却很高，说明用户在购买38大类下的产品时选择余地较少，但同时用户对此类产品的需求又很旺盛，可以适量的增加38大类下的子类产品，提高销售量"
   ]
  },
  {
   "cell_type": "markdown",
   "metadata": {},
   "source": [
    "### 项目总结\n",
    "\n",
    "- 每年的五月和十一月都是销量高峰期，可见购物节的促销活动效果明显，应继续保持；\n",
    "- 由用户总数和销售总额的上升趋势都在反映店铺对市场的影响力正逐步扩大，仍有需要开拓的市场空间，但速度在放缓；\n",
    "- 因婴儿产品的特殊性，用户的生命周期有限，所以店铺的经营重心既要放在提高复购率上，同时也不能忽略新用户的获取上；"
   ]
  },
  {
   "cell_type": "code",
   "execution_count": null,
   "metadata": {},
   "outputs": [],
   "source": []
  }
 ],
 "metadata": {
  "hide_input": false,
  "kernelspec": {
   "display_name": "Python 3 (ipykernel)",
   "language": "python",
   "name": "python3"
  },
  "language_info": {
   "codemirror_mode": {
    "name": "ipython",
    "version": 3
   },
   "file_extension": ".py",
   "mimetype": "text/x-python",
   "name": "python",
   "nbconvert_exporter": "python",
   "pygments_lexer": "ipython3",
   "version": "3.9.12"
  },
  "latex_envs": {
   "LaTeX_envs_menu_present": true,
   "autoclose": false,
   "autocomplete": true,
   "bibliofile": "biblio.bib",
   "cite_by": "apalike",
   "current_citInitial": 1,
   "eqLabelWithNumbers": true,
   "eqNumInitial": 1,
   "hotkeys": {
    "equation": "Ctrl-E",
    "itemize": "Ctrl-I"
   },
   "labels_anchors": false,
   "latex_user_defs": false,
   "report_style_numbering": false,
   "user_envs_cfg": false
  },
  "toc": {
   "base_numbering": 1,
   "nav_menu": {},
   "number_sections": false,
   "sideBar": true,
   "skip_h1_title": false,
   "title_cell": "Table of Contents",
   "title_sidebar": "Contents",
   "toc_cell": false,
   "toc_position": {
    "height": "calc(100% - 180px)",
    "left": "10px",
    "top": "150px",
    "width": "383.993px"
   },
   "toc_section_display": true,
   "toc_window_display": true
  },
  "varInspector": {
   "cols": {
    "lenName": 16,
    "lenType": 16,
    "lenVar": 40
   },
   "kernels_config": {
    "python": {
     "delete_cmd_postfix": "",
     "delete_cmd_prefix": "del ",
     "library": "var_list.py",
     "varRefreshCmd": "print(var_dic_list())"
    },
    "r": {
     "delete_cmd_postfix": ") ",
     "delete_cmd_prefix": "rm(",
     "library": "var_list.r",
     "varRefreshCmd": "cat(var_dic_list()) "
    }
   },
   "position": {
    "height": "235px",
    "left": "1744px",
    "right": "20px",
    "top": "131px",
    "width": "350px"
   },
   "types_to_exclude": [
    "module",
    "function",
    "builtin_function_or_method",
    "instance",
    "_Feature"
   ],
   "window_display": true
  }
 },
 "nbformat": 4,
 "nbformat_minor": 4
}
